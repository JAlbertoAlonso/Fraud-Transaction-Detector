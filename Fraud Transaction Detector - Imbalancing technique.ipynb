{
 "cells": [
  {
   "cell_type": "markdown",
   "id": "44605cc9",
   "metadata": {},
   "source": [
    "# Fraud Transaction Detector | Imbalancing technique"
   ]
  },
  {
   "cell_type": "markdown",
   "id": "2cec5209",
   "metadata": {},
   "source": [
    "### Description\n",
    "\n",
    "**In this notebook, it will be described the process of creating a Fraud transaction detector based on transactions dataset made by considering simulated users through various terminals throughout the period from January 2023 to June 2023. However, the data is highly imbalanced, with only a small percentage (0.1345%) of transactions classified as fraudulent..**"
   ]
  },
  {
   "cell_type": "markdown",
   "id": "8dcc2878",
   "metadata": {},
   "source": [
    "### Targets:\n",
    "\n",
    "* Perform an Exploratory Data Analysis.\n",
    "* Transform, Standardize and performe an Imbalancing techique the data.\n",
    "* Create a Logistic Regression model.\n",
    "* Perform the metrics regard to the fastest horses."
   ]
  },
  {
   "cell_type": "markdown",
   "id": "b04ba73c",
   "metadata": {},
   "source": [
    "## 1. Library importation"
   ]
  },
  {
   "cell_type": "code",
   "execution_count": 1,
   "id": "f8ee9f36",
   "metadata": {},
   "outputs": [],
   "source": [
    "# Data management\n",
    "import numpy as np\n",
    "import pandas as pd\n",
    "\n",
    "# Data visualization\n",
    "import matplotlib.pyplot as plt\n",
    "%matplotlib inline\n",
    "import seaborn as sns\n",
    "sns.set_style('whitegrid')\n",
    "\n",
    "# Oversampling Technique\n",
    "from imblearn.over_sampling import SMOTE\n",
    "\n",
    "from collections import Counter\n",
    "\n",
    "# Data scaling\n",
    "from sklearn.preprocessing import StandardScaler as SS\n",
    "\n",
    "# Data spliting\n",
    "from sklearn.model_selection import train_test_split as tts\n",
    "\n",
    "# Logistic Regression model\n",
    "from sklearn.linear_model import LogisticRegression\n",
    "\n",
    "# Model metrics\n",
    "from sklearn.metrics import accuracy_score\n",
    "from sklearn.metrics import confusion_matrix"
   ]
  },
  {
   "cell_type": "markdown",
   "id": "6bb51658",
   "metadata": {},
   "source": [
    "## 2. Load and Information of the data"
   ]
  },
  {
   "cell_type": "code",
   "execution_count": 2,
   "id": "94671785",
   "metadata": {},
   "outputs": [
    {
     "name": "stderr",
     "output_type": "stream",
     "text": [
      "C:\\Users\\betoa\\AppData\\Local\\Temp\\ipykernel_3256\\3827002884.py:4: DtypeWarning: Columns (1,3,4,5,6,7,8,9) have mixed types. Specify dtype option on import or set low_memory=False.\n",
      "  df = pd.read_csv('Final Transactions.csv', names=cols)\n"
     ]
    },
    {
     "data": {
      "text/html": [
       "<div>\n",
       "<style scoped>\n",
       "    .dataframe tbody tr th:only-of-type {\n",
       "        vertical-align: middle;\n",
       "    }\n",
       "\n",
       "    .dataframe tbody tr th {\n",
       "        vertical-align: top;\n",
       "    }\n",
       "\n",
       "    .dataframe thead th {\n",
       "        text-align: right;\n",
       "    }\n",
       "</style>\n",
       "<table border=\"1\" class=\"dataframe\">\n",
       "  <thead>\n",
       "    <tr style=\"text-align: right;\">\n",
       "      <th></th>\n",
       "      <th>Index</th>\n",
       "      <th>Transaction ID</th>\n",
       "      <th>Trans Datetime</th>\n",
       "      <th>Cusotmer ID</th>\n",
       "      <th>Terminal ID</th>\n",
       "      <th>Trans Amount</th>\n",
       "      <th>Trans Time Seconds</th>\n",
       "      <th>Trans Time Days</th>\n",
       "      <th>Trans Fraud</th>\n",
       "      <th>Tans Fraud Scenario</th>\n",
       "    </tr>\n",
       "  </thead>\n",
       "  <tbody>\n",
       "    <tr>\n",
       "      <th>0</th>\n",
       "      <td>0.0</td>\n",
       "      <td>0</td>\n",
       "      <td>2023-01-01 00:00:31</td>\n",
       "      <td>596</td>\n",
       "      <td>3156</td>\n",
       "      <td>533.07</td>\n",
       "      <td>31</td>\n",
       "      <td>0</td>\n",
       "      <td>0</td>\n",
       "      <td>0</td>\n",
       "    </tr>\n",
       "    <tr>\n",
       "      <th>1</th>\n",
       "      <td>1.0</td>\n",
       "      <td>1</td>\n",
       "      <td>2023-01-01 00:02:10</td>\n",
       "      <td>4961</td>\n",
       "      <td>3412</td>\n",
       "      <td>808.56</td>\n",
       "      <td>130</td>\n",
       "      <td>0</td>\n",
       "      <td>0</td>\n",
       "      <td>0</td>\n",
       "    </tr>\n",
       "    <tr>\n",
       "      <th>2</th>\n",
       "      <td>2.0</td>\n",
       "      <td>2</td>\n",
       "      <td>2023-01-01 00:07:56</td>\n",
       "      <td>2</td>\n",
       "      <td>1365</td>\n",
       "      <td>1442.94</td>\n",
       "      <td>476</td>\n",
       "      <td>0</td>\n",
       "      <td>1</td>\n",
       "      <td>1</td>\n",
       "    </tr>\n",
       "    <tr>\n",
       "      <th>3</th>\n",
       "      <td>3.0</td>\n",
       "      <td>3</td>\n",
       "      <td>2023-01-01 00:09:29</td>\n",
       "      <td>4128</td>\n",
       "      <td>8737</td>\n",
       "      <td>620.65</td>\n",
       "      <td>569</td>\n",
       "      <td>0</td>\n",
       "      <td>0</td>\n",
       "      <td>0</td>\n",
       "    </tr>\n",
       "    <tr>\n",
       "      <th>4</th>\n",
       "      <td>4.0</td>\n",
       "      <td>4</td>\n",
       "      <td>2023-01-01 00:10:34</td>\n",
       "      <td>927</td>\n",
       "      <td>9906</td>\n",
       "      <td>490.66</td>\n",
       "      <td>634</td>\n",
       "      <td>0</td>\n",
       "      <td>0</td>\n",
       "      <td>0</td>\n",
       "    </tr>\n",
       "    <tr>\n",
       "      <th>...</th>\n",
       "      <td>...</td>\n",
       "      <td>...</td>\n",
       "      <td>...</td>\n",
       "      <td>...</td>\n",
       "      <td>...</td>\n",
       "      <td>...</td>\n",
       "      <td>...</td>\n",
       "      <td>...</td>\n",
       "      <td>...</td>\n",
       "      <td>...</td>\n",
       "    </tr>\n",
       "    <tr>\n",
       "      <th>1754150</th>\n",
       "      <td>1754150.0</td>\n",
       "      <td>1754150</td>\n",
       "      <td>2023-07-02 23:56:36</td>\n",
       "      <td>161</td>\n",
       "      <td>655</td>\n",
       "      <td>531.43</td>\n",
       "      <td>15810996</td>\n",
       "      <td>182</td>\n",
       "      <td>0</td>\n",
       "      <td>0</td>\n",
       "    </tr>\n",
       "    <tr>\n",
       "      <th>1754151</th>\n",
       "      <td>1754151.0</td>\n",
       "      <td>1754151</td>\n",
       "      <td>2023-07-02 23:57:38</td>\n",
       "      <td>4342</td>\n",
       "      <td>6181</td>\n",
       "      <td>10.4</td>\n",
       "      <td>15811058</td>\n",
       "      <td>182</td>\n",
       "      <td>0</td>\n",
       "      <td>0</td>\n",
       "    </tr>\n",
       "    <tr>\n",
       "      <th>1754152</th>\n",
       "      <td>1754152.0</td>\n",
       "      <td>1754152</td>\n",
       "      <td>2023-07-02 23:58:21</td>\n",
       "      <td>618</td>\n",
       "      <td>1502</td>\n",
       "      <td>26.62</td>\n",
       "      <td>15811101</td>\n",
       "      <td>182</td>\n",
       "      <td>0</td>\n",
       "      <td>0</td>\n",
       "    </tr>\n",
       "    <tr>\n",
       "      <th>1754153</th>\n",
       "      <td>1754153.0</td>\n",
       "      <td>1754153</td>\n",
       "      <td>2023-07-02 23:59:52</td>\n",
       "      <td>4056</td>\n",
       "      <td>3067</td>\n",
       "      <td>550.43</td>\n",
       "      <td>15811192</td>\n",
       "      <td>182</td>\n",
       "      <td>0</td>\n",
       "      <td>0</td>\n",
       "    </tr>\n",
       "    <tr>\n",
       "      <th>1754154</th>\n",
       "      <td>1754154.0</td>\n",
       "      <td>1754154</td>\n",
       "      <td>2023-07-02 23:59:57</td>\n",
       "      <td>3542</td>\n",
       "      <td>9849</td>\n",
       "      <td>216.57</td>\n",
       "      <td>15811197</td>\n",
       "      <td>182</td>\n",
       "      <td>0</td>\n",
       "      <td>0</td>\n",
       "    </tr>\n",
       "  </tbody>\n",
       "</table>\n",
       "<p>1754155 rows × 10 columns</p>\n",
       "</div>"
      ],
      "text/plain": [
       "             Index Transaction ID       Trans Datetime Cusotmer ID  \\\n",
       "0              0.0              0  2023-01-01 00:00:31         596   \n",
       "1              1.0              1  2023-01-01 00:02:10        4961   \n",
       "2              2.0              2  2023-01-01 00:07:56           2   \n",
       "3              3.0              3  2023-01-01 00:09:29        4128   \n",
       "4              4.0              4  2023-01-01 00:10:34         927   \n",
       "...            ...            ...                  ...         ...   \n",
       "1754150  1754150.0        1754150  2023-07-02 23:56:36         161   \n",
       "1754151  1754151.0        1754151  2023-07-02 23:57:38        4342   \n",
       "1754152  1754152.0        1754152  2023-07-02 23:58:21         618   \n",
       "1754153  1754153.0        1754153  2023-07-02 23:59:52        4056   \n",
       "1754154  1754154.0        1754154  2023-07-02 23:59:57        3542   \n",
       "\n",
       "        Terminal ID Trans Amount Trans Time Seconds Trans Time Days  \\\n",
       "0              3156       533.07                 31               0   \n",
       "1              3412       808.56                130               0   \n",
       "2              1365      1442.94                476               0   \n",
       "3              8737       620.65                569               0   \n",
       "4              9906       490.66                634               0   \n",
       "...             ...          ...                ...             ...   \n",
       "1754150         655       531.43           15810996             182   \n",
       "1754151        6181         10.4           15811058             182   \n",
       "1754152        1502        26.62           15811101             182   \n",
       "1754153        3067       550.43           15811192             182   \n",
       "1754154        9849       216.57           15811197             182   \n",
       "\n",
       "        Trans Fraud Tans Fraud Scenario  \n",
       "0                 0                   0  \n",
       "1                 0                   0  \n",
       "2                 1                   1  \n",
       "3                 0                   0  \n",
       "4                 0                   0  \n",
       "...             ...                 ...  \n",
       "1754150           0                   0  \n",
       "1754151           0                   0  \n",
       "1754152           0                   0  \n",
       "1754153           0                   0  \n",
       "1754154           0                   0  \n",
       "\n",
       "[1754155 rows x 10 columns]"
      ]
     },
     "execution_count": 2,
     "metadata": {},
     "output_type": "execute_result"
    }
   ],
   "source": [
    "cols = ['Index', 'Transaction ID', 'Trans Datetime', 'Cusotmer ID',\n",
    "       'Terminal ID', 'Trans Amount', 'Trans Time Seconds',\n",
    "       'Trans Time Days', 'Trans Fraud', 'Tans Fraud Scenario']\n",
    "df = pd.read_csv('Final Transactions.csv', names=cols)\n",
    "df = df.drop(df.index[0]).reset_index(drop=True)\n",
    "df"
   ]
  },
  {
   "cell_type": "markdown",
   "id": "27ed5fe1",
   "metadata": {},
   "source": [
    "### Data fields\n",
    "* Index\n",
    "* Transaction ID\n",
    "* Transaction Datetime\n",
    "* Customer ID\n",
    "* Terminal ID\n",
    "* Transaction Amount\n",
    "* Transaction Time in Seconds\n",
    "* Transaction Time in Days\n",
    "* Transaction Fraud: 0 for a legitimate transaction, or the value 1 for a fraudulent transaction."
   ]
  },
  {
   "cell_type": "code",
   "execution_count": 3,
   "id": "2810de86",
   "metadata": {},
   "outputs": [
    {
     "name": "stdout",
     "output_type": "stream",
     "text": [
      "<class 'pandas.core.frame.DataFrame'>\n",
      "RangeIndex: 1754155 entries, 0 to 1754154\n",
      "Data columns (total 10 columns):\n",
      " #   Column               Dtype  \n",
      "---  ------               -----  \n",
      " 0   Index                float64\n",
      " 1   Transaction ID       object \n",
      " 2   Trans Datetime       object \n",
      " 3   Cusotmer ID          object \n",
      " 4   Terminal ID          object \n",
      " 5   Trans Amount         object \n",
      " 6   Trans Time Seconds   object \n",
      " 7   Trans Time Days      object \n",
      " 8   Trans Fraud          object \n",
      " 9   Tans Fraud Scenario  object \n",
      "dtypes: float64(1), object(9)\n",
      "memory usage: 133.8+ MB\n"
     ]
    }
   ],
   "source": [
    "df.info()"
   ]
  },
  {
   "cell_type": "code",
   "execution_count": 4,
   "id": "44acd5da",
   "metadata": {},
   "outputs": [
    {
     "data": {
      "text/html": [
       "<div>\n",
       "<style scoped>\n",
       "    .dataframe tbody tr th:only-of-type {\n",
       "        vertical-align: middle;\n",
       "    }\n",
       "\n",
       "    .dataframe tbody tr th {\n",
       "        vertical-align: top;\n",
       "    }\n",
       "\n",
       "    .dataframe thead th {\n",
       "        text-align: right;\n",
       "    }\n",
       "</style>\n",
       "<table border=\"1\" class=\"dataframe\">\n",
       "  <thead>\n",
       "    <tr style=\"text-align: right;\">\n",
       "      <th></th>\n",
       "      <th>Cusotmer ID</th>\n",
       "      <th>Terminal ID</th>\n",
       "      <th>Trans Amount</th>\n",
       "      <th>Trans Time Seconds</th>\n",
       "      <th>Trans Time Days</th>\n",
       "      <th>Trans Fraud</th>\n",
       "    </tr>\n",
       "  </thead>\n",
       "  <tbody>\n",
       "    <tr>\n",
       "      <th>0</th>\n",
       "      <td>596</td>\n",
       "      <td>3156</td>\n",
       "      <td>533.07</td>\n",
       "      <td>31</td>\n",
       "      <td>0</td>\n",
       "      <td>0</td>\n",
       "    </tr>\n",
       "    <tr>\n",
       "      <th>1</th>\n",
       "      <td>4961</td>\n",
       "      <td>3412</td>\n",
       "      <td>808.56</td>\n",
       "      <td>130</td>\n",
       "      <td>0</td>\n",
       "      <td>0</td>\n",
       "    </tr>\n",
       "    <tr>\n",
       "      <th>2</th>\n",
       "      <td>2</td>\n",
       "      <td>1365</td>\n",
       "      <td>1442.94</td>\n",
       "      <td>476</td>\n",
       "      <td>0</td>\n",
       "      <td>1</td>\n",
       "    </tr>\n",
       "    <tr>\n",
       "      <th>3</th>\n",
       "      <td>4128</td>\n",
       "      <td>8737</td>\n",
       "      <td>620.65</td>\n",
       "      <td>569</td>\n",
       "      <td>0</td>\n",
       "      <td>0</td>\n",
       "    </tr>\n",
       "    <tr>\n",
       "      <th>4</th>\n",
       "      <td>927</td>\n",
       "      <td>9906</td>\n",
       "      <td>490.66</td>\n",
       "      <td>634</td>\n",
       "      <td>0</td>\n",
       "      <td>0</td>\n",
       "    </tr>\n",
       "  </tbody>\n",
       "</table>\n",
       "</div>"
      ],
      "text/plain": [
       "   Cusotmer ID  Terminal ID  Trans Amount  Trans Time Seconds  \\\n",
       "0          596         3156        533.07                  31   \n",
       "1         4961         3412        808.56                 130   \n",
       "2            2         1365       1442.94                 476   \n",
       "3         4128         8737        620.65                 569   \n",
       "4          927         9906        490.66                 634   \n",
       "\n",
       "   Trans Time Days  Trans Fraud  \n",
       "0                0            0  \n",
       "1                0            0  \n",
       "2                0            1  \n",
       "3                0            0  \n",
       "4                0            0  "
      ]
     },
     "execution_count": 4,
     "metadata": {},
     "output_type": "execute_result"
    }
   ],
   "source": [
    "def casting_to_float(column):\n",
    "    # Convert a column from strings to floats\n",
    "    df[column] = pd.to_numeric(df[column], errors='coerce').astype(float)\n",
    "    \n",
    "def casting_to_int(column):\n",
    "    # Convert a column of strings to integers\n",
    "    df[column] = pd.to_numeric(df[column], errors='coerce').astype(int)\n",
    "\n",
    "        \n",
    "to_int = ['Transaction ID', 'Cusotmer ID',\n",
    "       'Terminal ID', 'Trans Time Seconds',\n",
    "       'Trans Time Days', 'Trans Fraud']\n",
    "\n",
    "casting_to_float('Trans Amount')\n",
    "\n",
    "for i in to_int:\n",
    "    casting_to_int(i)\n",
    "    \n",
    "    \n",
    "df = df.drop(['Index', 'Transaction ID','Trans Datetime', 'Tans Fraud Scenario'], axis=1)\n",
    "    \n",
    "    \n",
    "df.head()"
   ]
  },
  {
   "cell_type": "code",
   "execution_count": 5,
   "id": "4e2748d7",
   "metadata": {},
   "outputs": [
    {
     "name": "stdout",
     "output_type": "stream",
     "text": [
      "<class 'pandas.core.frame.DataFrame'>\n",
      "RangeIndex: 1754155 entries, 0 to 1754154\n",
      "Data columns (total 6 columns):\n",
      " #   Column              Dtype  \n",
      "---  ------              -----  \n",
      " 0   Cusotmer ID         int32  \n",
      " 1   Terminal ID         int32  \n",
      " 2   Trans Amount        float64\n",
      " 3   Trans Time Seconds  int32  \n",
      " 4   Trans Time Days     int32  \n",
      " 5   Trans Fraud         int32  \n",
      "dtypes: float64(1), int32(5)\n",
      "memory usage: 46.8 MB\n"
     ]
    }
   ],
   "source": [
    "df.info()"
   ]
  },
  {
   "cell_type": "markdown",
   "id": "aab17dae",
   "metadata": {},
   "source": [
    "## 3. Exploratory Data Analysis"
   ]
  },
  {
   "cell_type": "markdown",
   "id": "ed92f458",
   "metadata": {},
   "source": [
    "### 3.1 Dataset descriptions"
   ]
  },
  {
   "cell_type": "code",
   "execution_count": 6,
   "id": "7131c558",
   "metadata": {},
   "outputs": [
    {
     "data": {
      "text/html": [
       "<div>\n",
       "<style scoped>\n",
       "    .dataframe tbody tr th:only-of-type {\n",
       "        vertical-align: middle;\n",
       "    }\n",
       "\n",
       "    .dataframe tbody tr th {\n",
       "        vertical-align: top;\n",
       "    }\n",
       "\n",
       "    .dataframe thead th {\n",
       "        text-align: right;\n",
       "    }\n",
       "</style>\n",
       "<table border=\"1\" class=\"dataframe\">\n",
       "  <thead>\n",
       "    <tr style=\"text-align: right;\">\n",
       "      <th></th>\n",
       "      <th>Cusotmer ID</th>\n",
       "      <th>Terminal ID</th>\n",
       "      <th>Trans Amount</th>\n",
       "      <th>Trans Time Seconds</th>\n",
       "      <th>Trans Time Days</th>\n",
       "      <th>Trans Fraud</th>\n",
       "    </tr>\n",
       "  </thead>\n",
       "  <tbody>\n",
       "    <tr>\n",
       "      <th>count</th>\n",
       "      <td>1.754155e+06</td>\n",
       "      <td>1.754155e+06</td>\n",
       "      <td>1.754155e+06</td>\n",
       "      <td>1.754155e+06</td>\n",
       "      <td>1.754155e+06</td>\n",
       "      <td>1.754155e+06</td>\n",
       "    </tr>\n",
       "    <tr>\n",
       "      <th>mean</th>\n",
       "      <td>2.504011e+03</td>\n",
       "      <td>4.996733e+03</td>\n",
       "      <td>5.396820e+02</td>\n",
       "      <td>7.903234e+06</td>\n",
       "      <td>9.097260e+01</td>\n",
       "      <td>1.345200e-01</td>\n",
       "    </tr>\n",
       "    <tr>\n",
       "      <th>std</th>\n",
       "      <td>1.445987e+03</td>\n",
       "      <td>2.886101e+03</td>\n",
       "      <td>1.179711e+03</td>\n",
       "      <td>4.565172e+06</td>\n",
       "      <td>5.283709e+01</td>\n",
       "      <td>3.412103e-01</td>\n",
       "    </tr>\n",
       "    <tr>\n",
       "      <th>min</th>\n",
       "      <td>0.000000e+00</td>\n",
       "      <td>0.000000e+00</td>\n",
       "      <td>0.000000e+00</td>\n",
       "      <td>3.100000e+01</td>\n",
       "      <td>0.000000e+00</td>\n",
       "      <td>0.000000e+00</td>\n",
       "    </tr>\n",
       "    <tr>\n",
       "      <th>25%</th>\n",
       "      <td>1.252000e+03</td>\n",
       "      <td>2.502000e+03</td>\n",
       "      <td>1.799500e+02</td>\n",
       "      <td>3.940846e+06</td>\n",
       "      <td>4.500000e+01</td>\n",
       "      <td>0.000000e+00</td>\n",
       "    </tr>\n",
       "    <tr>\n",
       "      <th>50%</th>\n",
       "      <td>2.506000e+03</td>\n",
       "      <td>4.994000e+03</td>\n",
       "      <td>4.217500e+02</td>\n",
       "      <td>7.902670e+06</td>\n",
       "      <td>9.100000e+01</td>\n",
       "      <td>0.000000e+00</td>\n",
       "    </tr>\n",
       "    <tr>\n",
       "      <th>75%</th>\n",
       "      <td>3.765000e+03</td>\n",
       "      <td>7.495000e+03</td>\n",
       "      <td>7.505950e+02</td>\n",
       "      <td>1.186566e+07</td>\n",
       "      <td>1.370000e+02</td>\n",
       "      <td>0.000000e+00</td>\n",
       "    </tr>\n",
       "    <tr>\n",
       "      <th>max</th>\n",
       "      <td>4.999000e+03</td>\n",
       "      <td>9.999000e+03</td>\n",
       "      <td>6.478375e+05</td>\n",
       "      <td>1.581120e+07</td>\n",
       "      <td>1.820000e+02</td>\n",
       "      <td>1.000000e+00</td>\n",
       "    </tr>\n",
       "  </tbody>\n",
       "</table>\n",
       "</div>"
      ],
      "text/plain": [
       "        Cusotmer ID   Terminal ID  Trans Amount  Trans Time Seconds  \\\n",
       "count  1.754155e+06  1.754155e+06  1.754155e+06        1.754155e+06   \n",
       "mean   2.504011e+03  4.996733e+03  5.396820e+02        7.903234e+06   \n",
       "std    1.445987e+03  2.886101e+03  1.179711e+03        4.565172e+06   \n",
       "min    0.000000e+00  0.000000e+00  0.000000e+00        3.100000e+01   \n",
       "25%    1.252000e+03  2.502000e+03  1.799500e+02        3.940846e+06   \n",
       "50%    2.506000e+03  4.994000e+03  4.217500e+02        7.902670e+06   \n",
       "75%    3.765000e+03  7.495000e+03  7.505950e+02        1.186566e+07   \n",
       "max    4.999000e+03  9.999000e+03  6.478375e+05        1.581120e+07   \n",
       "\n",
       "       Trans Time Days   Trans Fraud  \n",
       "count     1.754155e+06  1.754155e+06  \n",
       "mean      9.097260e+01  1.345200e-01  \n",
       "std       5.283709e+01  3.412103e-01  \n",
       "min       0.000000e+00  0.000000e+00  \n",
       "25%       4.500000e+01  0.000000e+00  \n",
       "50%       9.100000e+01  0.000000e+00  \n",
       "75%       1.370000e+02  0.000000e+00  \n",
       "max       1.820000e+02  1.000000e+00  "
      ]
     },
     "execution_count": 6,
     "metadata": {},
     "output_type": "execute_result"
    }
   ],
   "source": [
    "df.describe()"
   ]
  },
  {
   "cell_type": "code",
   "execution_count": 7,
   "id": "b494f8b7",
   "metadata": {},
   "outputs": [
    {
     "data": {
      "text/html": [
       "<div>\n",
       "<style scoped>\n",
       "    .dataframe tbody tr th:only-of-type {\n",
       "        vertical-align: middle;\n",
       "    }\n",
       "\n",
       "    .dataframe tbody tr th {\n",
       "        vertical-align: top;\n",
       "    }\n",
       "\n",
       "    .dataframe thead th {\n",
       "        text-align: right;\n",
       "    }\n",
       "</style>\n",
       "<table border=\"1\" class=\"dataframe\">\n",
       "  <thead>\n",
       "    <tr style=\"text-align: right;\">\n",
       "      <th></th>\n",
       "      <th>Trans Amount</th>\n",
       "      <th>Trans Time Seconds</th>\n",
       "      <th>Trans Time Days</th>\n",
       "    </tr>\n",
       "  </thead>\n",
       "  <tbody>\n",
       "    <tr>\n",
       "      <th>count</th>\n",
       "      <td>235969.000000</td>\n",
       "      <td>2.359690e+05</td>\n",
       "      <td>235969.000000</td>\n",
       "    </tr>\n",
       "    <tr>\n",
       "      <th>mean</th>\n",
       "      <td>1477.560343</td>\n",
       "      <td>7.933920e+06</td>\n",
       "      <td>91.327721</td>\n",
       "    </tr>\n",
       "    <tr>\n",
       "      <th>std</th>\n",
       "      <td>2973.502497</td>\n",
       "      <td>4.556081e+06</td>\n",
       "      <td>52.731309</td>\n",
       "    </tr>\n",
       "    <tr>\n",
       "      <th>min</th>\n",
       "      <td>0.200000</td>\n",
       "      <td>4.760000e+02</td>\n",
       "      <td>0.000000</td>\n",
       "    </tr>\n",
       "    <tr>\n",
       "      <th>25%</th>\n",
       "      <td>1085.040000</td>\n",
       "      <td>3.996473e+06</td>\n",
       "      <td>46.000000</td>\n",
       "    </tr>\n",
       "    <tr>\n",
       "      <th>50%</th>\n",
       "      <td>1212.470000</td>\n",
       "      <td>7.923149e+06</td>\n",
       "      <td>91.000000</td>\n",
       "    </tr>\n",
       "    <tr>\n",
       "      <th>75%</th>\n",
       "      <td>1410.640000</td>\n",
       "      <td>1.187945e+07</td>\n",
       "      <td>137.000000</td>\n",
       "    </tr>\n",
       "    <tr>\n",
       "      <th>max</th>\n",
       "      <td>647837.500000</td>\n",
       "      <td>1.581098e+07</td>\n",
       "      <td>182.000000</td>\n",
       "    </tr>\n",
       "  </tbody>\n",
       "</table>\n",
       "</div>"
      ],
      "text/plain": [
       "        Trans Amount  Trans Time Seconds  Trans Time Days\n",
       "count  235969.000000        2.359690e+05    235969.000000\n",
       "mean     1477.560343        7.933920e+06        91.327721\n",
       "std      2973.502497        4.556081e+06        52.731309\n",
       "min         0.200000        4.760000e+02         0.000000\n",
       "25%      1085.040000        3.996473e+06        46.000000\n",
       "50%      1212.470000        7.923149e+06        91.000000\n",
       "75%      1410.640000        1.187945e+07       137.000000\n",
       "max    647837.500000        1.581098e+07       182.000000"
      ]
     },
     "execution_count": 7,
     "metadata": {},
     "output_type": "execute_result"
    }
   ],
   "source": [
    "df[df['Trans Fraud'] == 1][['Trans Amount', 'Trans Time Seconds', 'Trans Time Days']].describe()"
   ]
  },
  {
   "cell_type": "code",
   "execution_count": 8,
   "id": "39ade085",
   "metadata": {},
   "outputs": [
    {
     "data": {
      "text/html": [
       "<div>\n",
       "<style scoped>\n",
       "    .dataframe tbody tr th:only-of-type {\n",
       "        vertical-align: middle;\n",
       "    }\n",
       "\n",
       "    .dataframe tbody tr th {\n",
       "        vertical-align: top;\n",
       "    }\n",
       "\n",
       "    .dataframe thead th {\n",
       "        text-align: right;\n",
       "    }\n",
       "</style>\n",
       "<table border=\"1\" class=\"dataframe\">\n",
       "  <thead>\n",
       "    <tr style=\"text-align: right;\">\n",
       "      <th></th>\n",
       "      <th>Trans Amount</th>\n",
       "      <th>Trans Time Seconds</th>\n",
       "      <th>Trans Time Days</th>\n",
       "    </tr>\n",
       "  </thead>\n",
       "  <tbody>\n",
       "    <tr>\n",
       "      <th>count</th>\n",
       "      <td>1.518186e+06</td>\n",
       "      <td>1.518186e+06</td>\n",
       "      <td>1.518186e+06</td>\n",
       "    </tr>\n",
       "    <tr>\n",
       "      <th>mean</th>\n",
       "      <td>3.939092e+02</td>\n",
       "      <td>7.898464e+06</td>\n",
       "      <td>9.091741e+01</td>\n",
       "    </tr>\n",
       "    <tr>\n",
       "      <th>std</th>\n",
       "      <td>2.753447e+02</td>\n",
       "      <td>4.566567e+06</td>\n",
       "      <td>5.285332e+01</td>\n",
       "    </tr>\n",
       "    <tr>\n",
       "      <th>min</th>\n",
       "      <td>0.000000e+00</td>\n",
       "      <td>3.100000e+01</td>\n",
       "      <td>0.000000e+00</td>\n",
       "    </tr>\n",
       "    <tr>\n",
       "      <th>25%</th>\n",
       "      <td>1.530100e+02</td>\n",
       "      <td>3.937356e+06</td>\n",
       "      <td>4.500000e+01</td>\n",
       "    </tr>\n",
       "    <tr>\n",
       "      <th>50%</th>\n",
       "      <td>3.533000e+02</td>\n",
       "      <td>7.899675e+06</td>\n",
       "      <td>9.100000e+01</td>\n",
       "    </tr>\n",
       "    <tr>\n",
       "      <th>75%</th>\n",
       "      <td>6.054000e+02</td>\n",
       "      <td>1.186333e+07</td>\n",
       "      <td>1.370000e+02</td>\n",
       "    </tr>\n",
       "    <tr>\n",
       "      <th>max</th>\n",
       "      <td>1.000000e+03</td>\n",
       "      <td>1.581120e+07</td>\n",
       "      <td>1.820000e+02</td>\n",
       "    </tr>\n",
       "  </tbody>\n",
       "</table>\n",
       "</div>"
      ],
      "text/plain": [
       "       Trans Amount  Trans Time Seconds  Trans Time Days\n",
       "count  1.518186e+06        1.518186e+06     1.518186e+06\n",
       "mean   3.939092e+02        7.898464e+06     9.091741e+01\n",
       "std    2.753447e+02        4.566567e+06     5.285332e+01\n",
       "min    0.000000e+00        3.100000e+01     0.000000e+00\n",
       "25%    1.530100e+02        3.937356e+06     4.500000e+01\n",
       "50%    3.533000e+02        7.899675e+06     9.100000e+01\n",
       "75%    6.054000e+02        1.186333e+07     1.370000e+02\n",
       "max    1.000000e+03        1.581120e+07     1.820000e+02"
      ]
     },
     "execution_count": 8,
     "metadata": {},
     "output_type": "execute_result"
    }
   ],
   "source": [
    "df[df['Trans Fraud'] == 0][['Trans Amount', 'Trans Time Seconds', 'Trans Time Days']].describe()"
   ]
  },
  {
   "cell_type": "markdown",
   "id": "256d0052",
   "metadata": {},
   "source": [
    "### 3.2 Missing data"
   ]
  },
  {
   "cell_type": "code",
   "execution_count": 9,
   "id": "3c2e1ab3",
   "metadata": {},
   "outputs": [
    {
     "data": {
      "text/plain": [
       "[Text(0.5, 1.0, 'Existent data (purple) and missing data (yellow) ratio')]"
      ]
     },
     "execution_count": 9,
     "metadata": {},
     "output_type": "execute_result"
    },
    {
     "data": {
      "image/png": "[encoded data removed]",
      "text/plain": [
       "<Figure size 640x480 with 1 Axes>"
      ]
     },
     "metadata": {},
     "output_type": "display_data"
    }
   ],
   "source": [
    "sns.heatmap(df.isnull(), yticklabels=False, cbar=False, cmap='viridis').set(title = 'Existent data (purple) and missing data (yellow) ratio')"
   ]
  },
  {
   "cell_type": "code",
   "execution_count": 10,
   "id": "da9cc8b8",
   "metadata": {},
   "outputs": [
    {
     "data": {
      "text/plain": [
       "Cusotmer ID           0\n",
       "Terminal ID           0\n",
       "Trans Amount          0\n",
       "Trans Time Seconds    0\n",
       "Trans Time Days       0\n",
       "Trans Fraud           0\n",
       "dtype: int64"
      ]
     },
     "execution_count": 10,
     "metadata": {},
     "output_type": "execute_result"
    }
   ],
   "source": [
    "df.isnull().sum()"
   ]
  },
  {
   "cell_type": "markdown",
   "id": "c331aeaa",
   "metadata": {},
   "source": [
    "### 3.3 Features of the frauds"
   ]
  },
  {
   "cell_type": "code",
   "execution_count": 11,
   "id": "351fea04",
   "metadata": {},
   "outputs": [
    {
     "data": {
      "text/plain": [
       "[Text(0.5, 1.0, 'Fraud Count')]"
      ]
     },
     "execution_count": 11,
     "metadata": {},
     "output_type": "execute_result"
    },
    {
     "data": {
      "image/png": "[encoded data removed]",
      "text/plain": [
       "<Figure size 1000x500 with 1 Axes>"
      ]
     },
     "metadata": {},
     "output_type": "display_data"
    }
   ],
   "source": [
    "plt.figure(figsize=(10,5))\n",
    "sns.countplot(data=df, x='Trans Fraud', palette='Set1', alpha=0.8).set(title = 'Fraud Count')"
   ]
  },
  {
   "cell_type": "markdown",
   "id": "8a373638",
   "metadata": {},
   "source": [
    "Based on the previous graph, it can be seen that the dataset is unbalanced and biased towards data that is not categorized as fraud, this can represent a problem for the creation of the model, since it will be trained biased."
   ]
  },
  {
   "cell_type": "code",
   "execution_count": 12,
   "id": "1e886a7b",
   "metadata": {},
   "outputs": [
    {
     "data": {
      "image/png": "[encoded data removed]",
      "text/plain": [
       "<Figure size 1000x800 with 2 Axes>"
      ]
     },
     "metadata": {},
     "output_type": "display_data"
    }
   ],
   "source": [
    "plt.figure(figsize=(10, 8))\n",
    "sns.heatmap(df.corr(), annot=True, cmap='coolwarm', fmt=\".2f\")\n",
    "plt.title('Correlation Matrix')\n",
    "plt.show()"
   ]
  },
  {
   "cell_type": "markdown",
   "id": "0915522e",
   "metadata": {},
   "source": [
    "It seems that the amount of the transaction is correlated with whether it is a fraudulent transaction or not."
   ]
  },
  {
   "cell_type": "code",
   "execution_count": 52,
   "id": "adf11015",
   "metadata": {},
   "outputs": [
    {
     "data": {
      "text/plain": [
       "count    235969.000000\n",
       "mean       1477.560343\n",
       "std        2973.502497\n",
       "min           0.200000\n",
       "25%        1085.040000\n",
       "50%        1212.470000\n",
       "75%        1410.640000\n",
       "max      647837.500000\n",
       "Name: Trans Amount, dtype: float64"
      ]
     },
     "execution_count": 52,
     "metadata": {},
     "output_type": "execute_result"
    }
   ],
   "source": [
    "df[df['Trans Fraud'] == 1]['Trans Amount'].describe()"
   ]
  },
  {
   "cell_type": "code",
   "execution_count": 53,
   "id": "d6a94886",
   "metadata": {},
   "outputs": [
    {
     "data": {
      "text/plain": [
       "count    1.518186e+06\n",
       "mean     3.939092e+02\n",
       "std      2.753447e+02\n",
       "min      0.000000e+00\n",
       "25%      1.530100e+02\n",
       "50%      3.533000e+02\n",
       "75%      6.054000e+02\n",
       "max      1.000000e+03\n",
       "Name: Trans Amount, dtype: float64"
      ]
     },
     "execution_count": 53,
     "metadata": {},
     "output_type": "execute_result"
    }
   ],
   "source": [
    "df[df['Trans Fraud'] == 0]['Trans Amount'].describe()"
   ]
  },
  {
   "cell_type": "markdown",
   "id": "694188b7",
   "metadata": {},
   "source": [
    "## 4. Data transforming"
   ]
  },
  {
   "cell_type": "markdown",
   "id": "b4ab81e3",
   "metadata": {},
   "source": [
    "### 4.1 Features and targets selection"
   ]
  },
  {
   "cell_type": "markdown",
   "id": "0c383709",
   "metadata": {},
   "source": [
    "We first select the features of each instance of the data (\"x\"), and the labels corresponding to its classification (\"y\")."
   ]
  },
  {
   "cell_type": "code",
   "execution_count": 13,
   "id": "9b05799f",
   "metadata": {},
   "outputs": [
    {
     "name": "stdout",
     "output_type": "stream",
     "text": [
      "[[5.9600000e+02 3.1560000e+03 5.3307000e+02 3.1000000e+01 0.0000000e+00]\n",
      " [4.9610000e+03 3.4120000e+03 8.0856000e+02 1.3000000e+02 0.0000000e+00]\n",
      " [2.0000000e+00 1.3650000e+03 1.4429400e+03 4.7600000e+02 0.0000000e+00]\n",
      " ...\n",
      " [6.1800000e+02 1.5020000e+03 2.6620000e+01 1.5811101e+07 1.8200000e+02]\n",
      " [4.0560000e+03 3.0670000e+03 5.5043000e+02 1.5811192e+07 1.8200000e+02]\n",
      " [3.5420000e+03 9.8490000e+03 2.1657000e+02 1.5811197e+07 1.8200000e+02]]\n",
      "(1754155, 5) \n",
      "\n",
      "[0 0 1 ... 0 0 0]\n",
      "(1754155,) \n",
      "\n"
     ]
    }
   ],
   "source": [
    "x = df.drop('Trans Fraud', axis=1).values\n",
    "y = df['Trans Fraud'].values\n",
    "\n",
    "print(x)\n",
    "print(x.shape, '\\n')\n",
    "\n",
    "print(y)\n",
    "print(y.shape, '\\n')"
   ]
  },
  {
   "cell_type": "markdown",
   "id": "3f8327da",
   "metadata": {},
   "source": [
    "### 4.2 Imbalancing technique"
   ]
  },
  {
   "cell_type": "markdown",
   "id": "8c057073",
   "metadata": {},
   "source": [
    "To solve the problem of bias in the data, an oversampling technique will be carried out. In this case, the Synthetic Minority Oversampling Technique (SMOTE) will be used to generate synthetic data by oversampling."
   ]
  },
  {
   "cell_type": "code",
   "execution_count": 14,
   "id": "528ff7dc",
   "metadata": {},
   "outputs": [
    {
     "name": "stdout",
     "output_type": "stream",
     "text": [
      "Counter({0: 1518186, 1: 1518186})\n"
     ]
    }
   ],
   "source": [
    "s = SMOTE()\n",
    "x_data, y_data = s.fit_resample(x,y)\n",
    "\n",
    "print(Counter(y_data))"
   ]
  },
  {
   "cell_type": "markdown",
   "id": "a594b08d",
   "metadata": {},
   "source": [
    "### 4.3 Standardized of the data"
   ]
  },
  {
   "cell_type": "code",
   "execution_count": 15,
   "id": "20373c38",
   "metadata": {},
   "outputs": [],
   "source": [
    "# Standard Scaler\n",
    "ss = SS()\n",
    "x_data = ss.fit_transform(x_data)"
   ]
  },
  {
   "cell_type": "markdown",
   "id": "20adfcd5",
   "metadata": {},
   "source": [
    "### 4.4 Data splitting"
   ]
  },
  {
   "cell_type": "code",
   "execution_count": 16,
   "id": "7ee9509b",
   "metadata": {},
   "outputs": [],
   "source": [
    "x_train, x_test, y_train, y_test = tts(x_data, y_data, test_size=0.3, random_state=42)"
   ]
  },
  {
   "cell_type": "markdown",
   "id": "ac8da2de",
   "metadata": {},
   "source": [
    "## 5. Building model"
   ]
  },
  {
   "cell_type": "markdown",
   "id": "9d6da7c7",
   "metadata": {},
   "source": [
    "Once the data is ready, the model can now be built and trained. For this, a classifier based on Logistic Regression will be used, to subsequently obtain predictions and perform the metrics associated with the model."
   ]
  },
  {
   "cell_type": "markdown",
   "id": "d79f4739",
   "metadata": {},
   "source": [
    "### 5.1 Training the model and making predictions"
   ]
  },
  {
   "cell_type": "code",
   "execution_count": 17,
   "id": "f5f7bd18",
   "metadata": {},
   "outputs": [],
   "source": [
    "lr = LogisticRegression()\n",
    "lr.fit(x_train, y_train)\n",
    "y_pred = lr.predict(x_test)"
   ]
  },
  {
   "cell_type": "markdown",
   "id": "b26631a4",
   "metadata": {},
   "source": [
    "## 6. Metrics of the model"
   ]
  },
  {
   "cell_type": "markdown",
   "id": "678da315",
   "metadata": {},
   "source": [
    "Regarding the metrics, the accuracy and the confusion matrix will be obtained."
   ]
  },
  {
   "cell_type": "code",
   "execution_count": 18,
   "id": "0d9fbaf7",
   "metadata": {},
   "outputs": [],
   "source": [
    "conf_matrix = confusion_matrix(y_test, y_pred)\n",
    "\n",
    "# Gets the values of TN, FN, TP, FP from the confusion matrix\n",
    "TN = conf_matrix[0, 0]\n",
    "FP = conf_matrix[0, 1]\n",
    "FN = conf_matrix[1, 0]\n",
    "TP = conf_matrix[1, 1]"
   ]
  },
  {
   "cell_type": "code",
   "execution_count": 19,
   "id": "69764030",
   "metadata": {},
   "outputs": [
    {
     "name": "stdout",
     "output_type": "stream",
     "text": [
      "Model Accuracy: 95.88%\n",
      "Number of True Negatives: 432275\n",
      "Number of False Negatives: 14384\n",
      "Number of True Positives: 441124\n",
      "Number of False Positives: 23129\n"
     ]
    },
    {
     "data": {
      "image/png": "[encoded data removed]",
      "text/plain": [
       "<Figure size 640x480 with 2 Axes>"
      ]
     },
     "metadata": {},
     "output_type": "display_data"
    }
   ],
   "source": [
    "print(f'Model Accuracy: {round(accuracy_score(y_test , y_pred)*100, 2)}%')\n",
    "print(f'Number of True Negatives: {TN}')\n",
    "print(f'Number of False Negatives: {FN}')\n",
    "print(f'Number of True Positives: {TP}')\n",
    "print(f'Number of False Positives: {FP}')\n",
    "\n",
    "# Create the confusion matrix\n",
    "confusion_matrix = [[TN, FP], [FN, TP]]\n",
    "\n",
    "# Set up the chart\n",
    "fig, ax = plt.subplots()\n",
    "cax = ax.matshow(confusion_matrix, cmap=plt.cm.Blues)\n",
    "plt.colorbar(cax)\n",
    "\n",
    "# Define ticks and labels\n",
    "ticks = [0, 1]\n",
    "tick_labels = ['Negative', 'Positive']\n",
    "\n",
    "# Set the ticks and labels on the axes\n",
    "ax.set_xticks(ticks)\n",
    "ax.set_yticks(ticks)\n",
    "ax.set_xticklabels(tick_labels)\n",
    "ax.set_yticklabels(tick_labels)\n",
    "\n",
    "# Shows the values in the confusion matrix\n",
    "text_style = {'color': 'red', 'weight': 'bold'}\n",
    "for i in range(2):\n",
    "    for j in range(2):\n",
    "        ax.text(j, i, str(confusion_matrix[i][j]),\n",
    "                va='center',\n",
    "                ha='center',\n",
    "                fontsize=15,\n",
    "                **text_style)\n",
    "\n",
    "plt.title('Confusion Matrix')\n",
    "plt.show()"
   ]
  },
  {
   "cell_type": "markdown",
   "id": "d95e7222",
   "metadata": {},
   "source": [
    "## 7. Conclusion"
   ]
  },
  {
   "cell_type": "markdown",
   "id": "0482fc6e",
   "metadata": {},
   "source": [
    "* Considering the accuracy performance reaching 95.88%, it can be concluded that the oversampling technique (SMOTE) was successful. This allowed the model to be trained accurately, resulting in remarkably accurate predictions. Furthermore, the logistic regression parameters were appropriately fitted, contributing to this outstanding performance."
   ]
  }
 ],
 "metadata": {
  "kernelspec": {
   "display_name": "Python 3 (ipykernel)",
   "language": "python",
   "name": "python3"
  },
  "language_info": {
   "codemirror_mode": {
    "name": "ipython",
    "version": 3
   },
   "file_extension": ".py",
   "mimetype": "text/x-python",
   "name": "python",
   "nbconvert_exporter": "python",
   "pygments_lexer": "ipython3",
   "version": "3.11.5"
  }
 },
 "nbformat": 4,
 "nbformat_minor": 5
}
